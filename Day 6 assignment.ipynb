{
 "cells": [
  {
   "cell_type": "code",
   "execution_count": 1,
   "metadata": {
    "ExecuteTime": {
     "end_time": "2020-07-19T09:50:10.058429Z",
     "start_time": "2020-07-19T09:50:02.690483Z"
    }
   },
   "outputs": [
    {
     "name": "stdout",
     "output_type": "stream",
     "text": [
      "Please enter mail id of the company:soni.arvind@gmail.com\n",
      "gmail\n"
     ]
    }
   ],
   "source": [
    "# Question 1:\n",
    "# Assuming that we have some email addresses in the \"username@companyname.com\" format, please write program\n",
    "# to print the company name of a given email address. Both user names and company names are composed of letters\n",
    "# only.\n",
    "# Input Format:\n",
    "# The first line of the input contains an email address.\n",
    "# Output Format:\n",
    "# Print the company name in single line.\n",
    "# Example;\n",
    "# Input:\n",
    "# john@google.com\n",
    "# Output:\n",
    "# google\n",
    "import re\n",
    "\n",
    "comp = input('Please enter mail id of the company:') \n",
    "\n",
    "tmp1 = comp.split('@')[1]\n",
    "name = tmp1.split('.')[0]\n",
    "\n",
    "print(name)"
   ]
  },
  {
   "cell_type": "code",
   "execution_count": 2,
   "metadata": {
    "ExecuteTime": {
     "end_time": "2020-07-19T09:50:39.556962Z",
     "start_time": "2020-07-19T09:50:27.508949Z"
    }
   },
   "outputs": [
    {
     "name": "stdout",
     "output_type": "stream",
     "text": [
      "Please enter comma separated words:soni,arvind,bag,bus,smith\n",
      "arvind,bag,bus,smith,soni\n"
     ]
    }
   ],
   "source": [
    "# Write a program that accepts a comma-separated sequence of words as input and prints the words in a comma\n",
    "# separated sequence after sorting them alphabetically.\n",
    "# Input Format:\n",
    "# The first line of input contains words separated by the comma.\n",
    "# Output Format:\n",
    "# Print the sorted words separated by the comma.\n",
    "# Example:\n",
    "# Input:\n",
    "# without,hello,bag,world\n",
    "# Output:\n",
    "# bag,hello,without,world\n",
    "\n",
    "temp = input(\"Please enter comma separated words:\")\n",
    "tmp  = [word for word in temp.split(\",\")]\n",
    "print(\",\".join(sorted(list(set(tmp)))))"
   ]
  },
  {
   "cell_type": "code",
   "execution_count": 13,
   "metadata": {
    "ExecuteTime": {
     "end_time": "2020-07-19T10:05:32.270336Z",
     "start_time": "2020-07-19T10:05:32.260816Z"
    }
   },
   "outputs": [
    {
     "name": "stdout",
     "output_type": "stream",
     "text": [
      "{'Terminator', 'hello world', 'apple'}\n",
      "Terminator\n",
      "hello world\n",
      "apple\n",
      "True\n",
      "{'BlockChain', 'Letsupgrade', 'AWS Cloud', 'ALML', 'Terminator', 'hello world', 'apple'}\n",
      "7\n",
      "{'BlockChain', 'Letsupgrade', 'AWS Cloud', 'ALML', 'Terminator', 'hello world'}\n",
      "secondset set: BlockChain\n",
      "first set: {'Letsupgrade', 'AWS Cloud', 'ALML', 'Terminator', 'hello world'}\n",
      "{'a', 'n', 'i', 'Terminator', 'hello world', 'o', 'Letsupgrade', 'h', 'AWS Cloud', 'B', 'k', 'C', 'ALML', 'c', 'l'}\n"
     ]
    }
   ],
   "source": [
    "# Question 3:\n",
    "# Create your own Jupyter Notebook for Sets.\n",
    "# Reference link: https://www.w3schools.com/python/python_sets.asp\n",
    "# my first set\n",
    "firstset={\"apple\",\"hello world\",\"Terminator\"}\n",
    "print(firstset)\n",
    "# try loop with sets\n",
    "for i in firstset:\n",
    "    print(i)\n",
    "# check item in present in set or not.\n",
    "print(\"hello world\" in firstset)\n",
    "# append items\n",
    "firstset.add(\"Letsupgrade\")\n",
    "firstset.update([\"ALML\",\"BlockChain\",\"AWS Cloud\"])\n",
    "print(firstset)\n",
    "# print length of sets\n",
    "print(len(firstset))\n",
    "# remove items\n",
    "firstset.remove(\"apple\")\n",
    "print(firstset)\n",
    "# remove using pop method\n",
    "\n",
    "secondset = firstset.pop()\n",
    "\n",
    "print('secondset set:',secondset)\n",
    "\n",
    "print('first set:',firstset)\n",
    "\n",
    "thirdset = firstset.union(secondset)\n",
    "print (thirdset)"
   ]
  },
  {
   "cell_type": "code",
   "execution_count": 13,
   "metadata": {
    "ExecuteTime": {
     "end_time": "2020-07-14T20:58:11.923976Z",
     "start_time": "2020-07-14T20:58:11.917993Z"
    }
   },
   "outputs": [
    {
     "name": "stdout",
     "output_type": "stream",
     "text": [
      "[4, 6, 8]\n"
     ]
    }
   ],
   "source": [
    "# Question 4:\n",
    "# Given a list of n-1 numbers ranging from 1 to n, your task is to find the missing number. There are no duplicates.\n",
    "# Input Format:\n",
    "# The first line contains n-1 numbers with each number separated by a space.\n",
    "# Output Format:\n",
    "# Print the missing number\n",
    "# Example:\n",
    "# Input:1 2 4 6 3 7 8\n",
    "# Output:5\n",
    "# Explanation:\n",
    "# In the above list of numbers 5 is missing and hence 5 is the input\n",
    "\n",
    "def find_missing(lst): \n",
    "    return sorted(set(range(lst[0], lst[-1])) - set(lst)) \n",
    "\n",
    "temp = [1,2,3,5,7,9] #input(\"Please enter number separated by space:\")\n",
    "\n",
    "# Driver code \n",
    "print(find_missing(temp)) "
   ]
  },
  {
   "cell_type": "code",
   "execution_count": 14,
   "metadata": {
    "ExecuteTime": {
     "end_time": "2020-07-14T21:10:40.468375Z",
     "start_time": "2020-07-14T21:10:40.462391Z"
    }
   },
   "outputs": [
    {
     "name": "stdout",
     "output_type": "stream",
     "text": [
      "The original list is : [1, 5, 3, 6, 3, 5, 6, 9, 1]\n",
      "The list after removing duplicates : [1, 3, 5, 6, 9]\n"
     ]
    }
   ],
   "source": [
    "# Question 5:\n",
    "# With a given list L, write a program to print this list L after removing all duplicate values with original order reserved.\n",
    "# Example:\n",
    "# If the input list is\n",
    "# 12 24 35 24 88 120 155 88 120 155\n",
    "# Then the output should be\n",
    "# 12 24 35 88 120 155\n",
    "# Explanation:\n",
    "# Third, seventh and ninth element of the list L has been removed because it was already present.\n",
    "# Input Format:\n",
    "# In one line take the elements of the list L with each element separated by a space.\n",
    "# Output Format:\n",
    "# Print the elements of the modified list in one line with each element separated by a space.\n",
    "# Example:\n",
    "# Input: 12 24 35 24\n",
    "# Output:\n",
    "# 12 24 35\n",
    "\n",
    "\n",
    "# Python 3 code to demonstrate  \n",
    "# removing duplicated from list  \n",
    "# using set() \n",
    "  \n",
    "# initializing list \n",
    "test_list = [1, 5, 3, 6, 3, 5, 6, 9, 1] \n",
    "print (\"The original list is : \" +  str(test_list)) \n",
    "  \n",
    "# using set() \n",
    "# to remove duplicated  \n",
    "# from list  \n",
    "test_list = list(set(test_list)) \n",
    "  \n",
    "# printing list after removal  \n",
    "# distorted ordering \n",
    "print (\"The list after removing duplicates : \" + str(test_list)) \n"
   ]
  },
  {
   "cell_type": "code",
   "execution_count": null,
   "metadata": {},
   "outputs": [],
   "source": []
  }
 ],
 "metadata": {
  "kernelspec": {
   "display_name": "Python 3",
   "language": "python",
   "name": "python3"
  },
  "language_info": {
   "codemirror_mode": {
    "name": "ipython",
    "version": 3
   },
   "file_extension": ".py",
   "mimetype": "text/x-python",
   "name": "python",
   "nbconvert_exporter": "python",
   "pygments_lexer": "ipython3",
   "version": "3.7.3"
  },
  "toc": {
   "base_numbering": 1,
   "nav_menu": {},
   "number_sections": true,
   "sideBar": true,
   "skip_h1_title": false,
   "title_cell": "Table of Contents",
   "title_sidebar": "Contents",
   "toc_cell": false,
   "toc_position": {},
   "toc_section_display": true,
   "toc_window_display": false
  },
  "varInspector": {
   "cols": {
    "lenName": 16,
    "lenType": 16,
    "lenVar": 40
   },
   "kernels_config": {
    "python": {
     "delete_cmd_postfix": "",
     "delete_cmd_prefix": "del ",
     "library": "var_list.py",
     "varRefreshCmd": "print(var_dic_list())"
    },
    "r": {
     "delete_cmd_postfix": ") ",
     "delete_cmd_prefix": "rm(",
     "library": "var_list.r",
     "varRefreshCmd": "cat(var_dic_list()) "
    }
   },
   "types_to_exclude": [
    "module",
    "function",
    "builtin_function_or_method",
    "instance",
    "_Feature"
   ],
   "window_display": false
  }
 },
 "nbformat": 4,
 "nbformat_minor": 2
}
