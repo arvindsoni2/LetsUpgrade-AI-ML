{
 "cells": [
  {
   "cell_type": "code",
   "execution_count": 3,
   "metadata": {
    "ExecuteTime": {
     "end_time": "2020-07-12T10:31:53.896413Z",
     "start_time": "2020-07-12T10:31:53.868091Z"
    }
   },
   "outputs": [
    {
     "name": "stdout",
     "output_type": "stream",
     "text": [
      "Two complex number operation (7+5j)\n"
     ]
    }
   ],
   "source": [
    "# Question 1 :\n",
    "# Write a program to subtract two complex numbers in Python.\n",
    "\n",
    "# First complex number\n",
    "Var1 = 7 + 2j\n",
    "\n",
    "# Second complex number\n",
    "Var2 = 14 + 7j\n",
    "\n",
    "# Operation\n",
    "Var3 = Var2 - Var1\n",
    "\n",
    "print ('Two complex number operation', Var3)"
   ]
  },
  {
   "cell_type": "code",
   "execution_count": 2,
   "metadata": {
    "ExecuteTime": {
     "end_time": "2020-07-12T12:04:08.213636Z",
     "start_time": "2020-07-12T12:04:08.198051Z"
    }
   },
   "outputs": [
    {
     "name": "stdout",
     "output_type": "stream",
     "text": [
      "Fourth root of 4 is: 256\n"
     ]
    }
   ],
   "source": [
    "# Question 2 :\n",
    "# Write a program to find the fourth root of a number\n",
    "\n",
    "Var1 = 4\n",
    "\n",
    "print ('Fourth root of 4 is:', Var1**4)"
   ]
  },
  {
   "cell_type": "code",
   "execution_count": 3,
   "metadata": {
    "ExecuteTime": {
     "end_time": "2020-07-12T12:04:36.864394Z",
     "start_time": "2020-07-12T12:04:36.846356Z"
    }
   },
   "outputs": [
    {
     "name": "stdout",
     "output_type": "stream",
     "text": [
      "Value of Var1: 12\n",
      "Value of Var2: 24\n",
      "After swapping: (24, 12)\n"
     ]
    }
   ],
   "source": [
    "# Question 3:\n",
    "# Write a program to swap two numbers in Python with the help of a temporary variable.\n",
    "\n",
    "Var1 = 12\n",
    "Var2 = 24\n",
    "print ('Value of Var1:', Var1)\n",
    "print ('Value of Var2:', Var2)\n",
    "\n",
    "# Swap operation with the help of temp variable\n",
    "\n",
    "def swap(Var1,Var2):\n",
    "    temp = Var1\n",
    "    Var1 = Var2\n",
    "    Var2 = temp\n",
    "    return(Var1,Var2)\n",
    "\n",
    "# Print values after swapping\n",
    "print ('After swapping:', swap(Var1,Var2))\n"
   ]
  },
  {
   "cell_type": "code",
   "execution_count": 5,
   "metadata": {
    "ExecuteTime": {
     "end_time": "2020-07-12T12:04:55.952936Z",
     "start_time": "2020-07-12T12:04:55.924720Z"
    }
   },
   "outputs": [
    {
     "name": "stdout",
     "output_type": "stream",
     "text": [
      "Value of Var1: 12\n",
      "Value of Var2: 36\n",
      "After swapping: (36, 12)\n"
     ]
    }
   ],
   "source": [
    "# Question 4:\n",
    "# Write a program to swap two numbers in Python without using a temporary variable.\n",
    "def swap(Var1,Var2):\n",
    "    Var1,Var2 = Var2,Var1\n",
    "    return(Var1,Var2)\n",
    "\n",
    "Var1 = 12\n",
    "Var2 = 36\n",
    "print ('Value of Var1:', Var1)\n",
    "print ('Value of Var2:', Var2)\n",
    "# Print values after swapping\n",
    "print ('After swapping:', swap(Var1,Var2))"
   ]
  },
  {
   "cell_type": "code",
   "execution_count": 6,
   "metadata": {
    "ExecuteTime": {
     "end_time": "2020-07-12T12:09:02.058547Z",
     "start_time": "2020-07-12T12:08:59.740060Z"
    }
   },
   "outputs": [
    {
     "name": "stdout",
     "output_type": "stream",
     "text": [
      "Enter temperature in fahrenheit:45\n",
      "Temperature in fahrenheit: 45\n",
      "Temperature in celsisu: 7.222222222222222\n",
      "Temperature in kelvin: 280.72222222222223\n"
     ]
    }
   ],
   "source": [
    "# Question 5:\n",
    "# Write a program to convert fahrenheit to kelvin and celsius both.\n",
    "\n",
    "f=int(input('Enter temperature in fahrenheit:'))\n",
    "\n",
    "def FtoC(f):\n",
    "    c = (f - 32) * 5 / 9\n",
    "    return c\n",
    "\n",
    "def FtoK(f): \n",
    "    k = 273.5 + ((f - 32.0) * (5.0/9.0)) \n",
    "    return k\n",
    "\n",
    "print('Temperature in fahrenheit:',f)\n",
    "print('Temperature in celsisu:',FtoC(f))\n",
    "print('Temperature in kelvin:',FtoK(f))"
   ]
  },
  {
   "cell_type": "code",
   "execution_count": 8,
   "metadata": {
    "ExecuteTime": {
     "end_time": "2020-07-12T12:10:55.531733Z",
     "start_time": "2020-07-12T12:10:55.500533Z"
    }
   },
   "outputs": [
    {
     "name": "stdout",
     "output_type": "stream",
     "text": [
      "a is variable of type <class 'int'>\n",
      "b is variable of type <class 'float'>\n",
      "c is variable of type <class 'complex'>\n",
      "d is variable of type <class 'str'>\n",
      "e is variable of type <class 'tuple'>\n",
      "f is variable of type <class 'list'>\n",
      "g is variable of type <class 'bool'>\n"
     ]
    }
   ],
   "source": [
    "# Question 6:\n",
    "# Write a program to demonstrate all the available data types in Python. Hint: Use type() function.\n",
    "\n",
    "a = 4\n",
    "b = 4.5\n",
    "c = 4+5j\n",
    "d = \"Arvind\"\n",
    "e = (4,'arvind',5)\n",
    "f = [4,8,8.6,6+75j,'Arvind']\n",
    "g = False\n",
    "\n",
    "print('a is variable of type',type(a))\n",
    "print('b is variable of type',type(b))\n",
    "print('c is variable of type',type(c))\n",
    "print('d is variable of type',type(d))\n",
    "print('e is variable of type',type(e))\n",
    "print('f is variable of type',type(f))\n",
    "print('g is variable of type',type(g))\n"
   ]
  },
  {
   "cell_type": "code",
   "execution_count": null,
   "metadata": {},
   "outputs": [],
   "source": [
    "# Question 7:\n",
    "# Create a Markdown cell in jupyter and list the steps discussed in the session by Dr. Darshan\n",
    "# Ingle sir to create Github profile and upload Githubs Assignment link\n",
    "\n",
    "\n",
    "\n",
    "# How to submit Assignments?\n",
    "\n",
    "# Step1. Create a Github public repo and name it LetsUpgrade AI/ML\n",
    "# Step2. Upload the files/solution in the repo in day wise manner.\n",
    "# Step3. Copy the URL of the Folder of that day and paste in the Assignment Submission Form (Google Form)\n",
    "# Step4. Make sure you are filling correct details in the Assignment Submission Form.\n",
    "# Step5. All the drop-downs will be available till the week end only. "
   ]
  }
 ],
 "metadata": {
  "kernelspec": {
   "display_name": "Python 3",
   "language": "python",
   "name": "python3"
  },
  "language_info": {
   "codemirror_mode": {
    "name": "ipython",
    "version": 3
   },
   "file_extension": ".py",
   "mimetype": "text/x-python",
   "name": "python",
   "nbconvert_exporter": "python",
   "pygments_lexer": "ipython3",
   "version": "3.7.3"
  },
  "toc": {
   "base_numbering": 1,
   "nav_menu": {},
   "number_sections": true,
   "sideBar": true,
   "skip_h1_title": false,
   "title_cell": "Table of Contents",
   "title_sidebar": "Contents",
   "toc_cell": false,
   "toc_position": {},
   "toc_section_display": true,
   "toc_window_display": false
  },
  "varInspector": {
   "cols": {
    "lenName": 16,
    "lenType": 16,
    "lenVar": 40
   },
   "kernels_config": {
    "python": {
     "delete_cmd_postfix": "",
     "delete_cmd_prefix": "del ",
     "library": "var_list.py",
     "varRefreshCmd": "print(var_dic_list())"
    },
    "r": {
     "delete_cmd_postfix": ") ",
     "delete_cmd_prefix": "rm(",
     "library": "var_list.r",
     "varRefreshCmd": "cat(var_dic_list()) "
    }
   },
   "types_to_exclude": [
    "module",
    "function",
    "builtin_function_or_method",
    "instance",
    "_Feature"
   ],
   "window_display": false
  }
 },
 "nbformat": 4,
 "nbformat_minor": 2
}
