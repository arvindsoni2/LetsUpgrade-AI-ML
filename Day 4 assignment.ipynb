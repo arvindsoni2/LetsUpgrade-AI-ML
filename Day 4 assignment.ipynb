{
 "cells": [
  {
   "cell_type": "code",
   "execution_count": 10,
   "metadata": {
    "ExecuteTime": {
     "end_time": "2020-07-12T13:26:14.134073Z",
     "start_time": "2020-07-12T13:26:14.126032Z"
    }
   },
   "outputs": [
    {
     "name": "stdout",
     "output_type": "stream",
     "text": [
      "Addition of two complex number = (22+0j)\n",
      "Subtraction of two complex number = (8+4j)\n",
      "Multiplication of two complex number = (109-16j)\n",
      "Division of two complex number = (1.9056603773584906+0.8301886792452831j)\n",
      "Floor Division of two complex number = (1.0 + 0.0j)\n",
      "Mod of complex number = 15.132745950421556\n"
     ]
    }
   ],
   "source": [
    "# Question 1 :\n",
    "# Research on whether addition, subtraction, multiplication, division, floor division and modulo\n",
    "# operations be performed on complex numbers. Based on your study, implement a Python\n",
    "# program to demonstrate these operations.\n",
    "# used khan academy & dummy links for my research \n",
    "# https://www.khanacademy.org/math/algebra2/x2ec2f6f830c9fb89:complex/x2ec2f6f830c9fb89:complex-mul/a/complex-number-operations-review)\n",
    "# https://www.dummies.com/education/math/calculus/how-to-perform-operations-with-complex-numbers/\n",
    "\n",
    "import mpmath\n",
    "import math\n",
    "\n",
    "Var1 = 15+2j\n",
    "Var2 = 7-2j\n",
    "\n",
    "#Addition\n",
    "print(\"Addition of two complex number =\", Var1+Var2)\n",
    "\n",
    "#Subtraction\n",
    "print(\"Subtraction of two complex number =\",Var1-Var2)\n",
    "\n",
    "#Multiplication\n",
    "print(\"Multiplication of two complex number =\",Var1*Var2)\n",
    "\n",
    "#Division\n",
    "print(\"Division of two complex number =\", Var1/Var2)\n",
    "\n",
    "Var3=mpmath.floor(Var1/Var2)\n",
    "# Floor division\n",
    "print(\"Floor Division of two complex number =\",Var3)\n",
    "\n",
    "def complex_mod(Var3):\n",
    "    real = Var3.real\n",
    "    imag = Var3.imag\n",
    "    return math.sqrt(real**2+imag**2)\n",
    "\n",
    "print(\"Mod of complex number =\",complex_mod(Var1))"
   ]
  },
  {
   "cell_type": "code",
   "execution_count": 21,
   "metadata": {
    "ExecuteTime": {
     "end_time": "2020-07-12T13:49:43.631123Z",
     "start_time": "2020-07-12T13:49:43.620978Z"
    }
   },
   "outputs": [
    {
     "name": "stdout",
     "output_type": "stream",
     "text": [
      "[1]\n",
      "[1, 4]\n",
      "[1, 4, 9]\n",
      "[1, 4, 9, 16]\n",
      "[1, 4, 9, 16, 25]\n",
      "[1, 4, 9, 16, 25, 36]\n",
      "[1, 4, 9, 16, 25, 36, 49]\n",
      "[1, 4, 9, 16, 25, 36, 49, 64]\n",
      "[1, 4, 9, 16, 25, 36, 49, 64, 81]\n",
      "[1, 4, 9, 16, 25, 36, 49, 64, 81, 100]\n"
     ]
    }
   ],
   "source": [
    "# Question 2 :\n",
    "# Research on range() functions and its parameters. Create a markdown cell and write in your own\n",
    "# words (no copy-paste from google please) what you understand about it. Implement a small\n",
    "# program of your choice on the same.\n",
    "\n",
    "# help(range)\n",
    "# Range is used to generate a series of number. \n",
    "#used range function in for loop\n",
    "\n",
    "var1 = []\n",
    "for i in range(1, 11):\n",
    " var2 = i ** 2\n",
    " var1.append(var2)\n",
    " print(var1)"
   ]
  },
  {
   "cell_type": "code",
   "execution_count": 25,
   "metadata": {
    "ExecuteTime": {
     "end_time": "2020-07-12T13:57:57.956356Z",
     "start_time": "2020-07-12T13:57:57.938226Z"
    }
   },
   "outputs": [
    {
     "name": "stdout",
     "output_type": "stream",
     "text": [
      "Printing division 1.125\n"
     ]
    }
   ],
   "source": [
    "# Question 3:\n",
    "# Consider two numbers. Perform their subtraction and if the result of subtraction is greater than\n",
    "# 25, print their multiplication result else print their division result.\n",
    "var1 = 45\n",
    "var2 = 40\n",
    "\n",
    "var3 = var1 - var2\n",
    "if var3>25:\n",
    "    print('Printing multiplication:', var1*var2)\n",
    "else:\n",
    "    print('Printing division', var1/var2)"
   ]
  },
  {
   "cell_type": "code",
   "execution_count": 31,
   "metadata": {
    "ExecuteTime": {
     "end_time": "2020-07-12T14:10:40.551470Z",
     "start_time": "2020-07-12T14:10:40.541366Z"
    }
   },
   "outputs": [
    {
     "name": "stdout",
     "output_type": "stream",
     "text": [
      "Result: 2\n",
      "Result: 14\n",
      "Result: 34\n",
      "Result: 62\n",
      "Result: 98\n"
     ]
    }
   ],
   "source": [
    "# Question 4:\n",
    "# Consider a list of 10 elements of integer values. If the number in the list is divisible by 2, print the\n",
    "# result as \"square of that number minus 2\".\n",
    "var1 = [1,2,3,4,5,6,7,8,9,10]\n",
    "for i in range(1,10):\n",
    "    if var1[i]% 2 ==0:\n",
    "        print ('Result:',(var1[i]*var1[i])-2)"
   ]
  },
  {
   "cell_type": "code",
   "execution_count": 33,
   "metadata": {
    "ExecuteTime": {
     "end_time": "2020-07-12T14:14:17.347484Z",
     "start_time": "2020-07-12T14:14:17.327368Z"
    }
   },
   "outputs": [
    {
     "name": "stdout",
     "output_type": "stream",
     "text": [
      "Result: 15\n",
      "Result: 16\n",
      "Result: 17\n",
      "Result: 18\n",
      "Result: 19\n",
      "Result: 110\n"
     ]
    }
   ],
   "source": [
    "# Question 5:\n",
    "# Consider a list of 10 elements. Print all the elements in the list which are greater than 7 when that\n",
    "# number is divided 2.\n",
    "\n",
    "var1 = [10,12,13,14,15,16,17,18,19,110]\n",
    "for i in range(1,10):\n",
    "    if var1[i]/2 >7:\n",
    "        print ('Result:',var1[i])"
   ]
  },
  {
   "cell_type": "code",
   "execution_count": null,
   "metadata": {},
   "outputs": [],
   "source": []
  }
 ],
 "metadata": {
  "kernelspec": {
   "display_name": "Python 3",
   "language": "python",
   "name": "python3"
  },
  "language_info": {
   "codemirror_mode": {
    "name": "ipython",
    "version": 3
   },
   "file_extension": ".py",
   "mimetype": "text/x-python",
   "name": "python",
   "nbconvert_exporter": "python",
   "pygments_lexer": "ipython3",
   "version": "3.7.3"
  },
  "toc": {
   "base_numbering": 1,
   "nav_menu": {},
   "number_sections": true,
   "sideBar": true,
   "skip_h1_title": false,
   "title_cell": "Table of Contents",
   "title_sidebar": "Contents",
   "toc_cell": false,
   "toc_position": {},
   "toc_section_display": true,
   "toc_window_display": false
  },
  "varInspector": {
   "cols": {
    "lenName": 16,
    "lenType": 16,
    "lenVar": 40
   },
   "kernels_config": {
    "python": {
     "delete_cmd_postfix": "",
     "delete_cmd_prefix": "del ",
     "library": "var_list.py",
     "varRefreshCmd": "print(var_dic_list())"
    },
    "r": {
     "delete_cmd_postfix": ") ",
     "delete_cmd_prefix": "rm(",
     "library": "var_list.r",
     "varRefreshCmd": "cat(var_dic_list()) "
    }
   },
   "types_to_exclude": [
    "module",
    "function",
    "builtin_function_or_method",
    "instance",
    "_Feature"
   ],
   "window_display": false
  }
 },
 "nbformat": 4,
 "nbformat_minor": 2
}
