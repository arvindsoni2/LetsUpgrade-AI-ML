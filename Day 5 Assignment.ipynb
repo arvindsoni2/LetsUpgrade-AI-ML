{
 "cells": [
  {
   "cell_type": "code",
   "execution_count": 47,
   "metadata": {
    "ExecuteTime": {
     "end_time": "2020-07-12T16:14:28.460632Z",
     "start_time": "2020-07-12T16:14:28.432442Z"
    }
   },
   "outputs": [
    {
     "name": "stdout",
     "output_type": "stream",
     "text": [
      "List of the non-even Prime Natural numbers:\n",
      "3\n",
      "5\n",
      "7\n",
      "11\n",
      "13\n",
      "17\n",
      "19\n",
      "23\n",
      "29\n",
      "31\n",
      "37\n",
      "41\n",
      "43\n",
      "47\n",
      "53\n",
      "59\n",
      "61\n",
      "67\n",
      "71\n",
      "73\n"
     ]
    }
   ],
   "source": [
    "# Question 1 :\n",
    "# Write a Python program to find the first 20 non-even prime natural numbers.\n",
    "\n",
    "k = 0\n",
    "print('List of the non-even Prime Natural numbers:')  \n",
    "for i in range(3,101):\n",
    "    if i >1:\n",
    "        for j in range(2, i):\n",
    "           if (i % j) == 0:\n",
    "               break\n",
    "        else:\n",
    "            k=k+1\n",
    "            if k<21:\n",
    "                print(i)\n",
    "            "
   ]
  },
  {
   "cell_type": "code",
   "execution_count": 52,
   "metadata": {
    "ExecuteTime": {
     "end_time": "2020-07-12T16:25:57.616161Z",
     "start_time": "2020-07-12T16:25:57.584918Z"
    }
   },
   "outputs": [
    {
     "name": "stdout",
     "output_type": "stream",
     "text": [
      "1) Swapcase function hELLO, arVIND soNi\n",
      "2) Lower case: hello, arvind soni\n",
      "3) Upper case: HELLO, ARVIND SONI\n",
      "4) String length: 18\n",
      "5) Replace n with v: Hello, ARvivd SOvI\n",
      "6) Split: ['Hello', ' ARvind SOnI']\n",
      "7) String slicing: lo\n",
      "8) Index: 7\n",
      "9) String value: False\n",
      "10)Numeric value: False\n",
      "11)Title: Hello, Arvind Soni\n",
      "12)Starts with Hello: True\n",
      "13)Center:          Hello, ARvind SOnI        \n",
      "14)Converted into all capitals: Hello, arvind soni\n",
      "15)Found the given value: 7\n"
     ]
    }
   ],
   "source": [
    "# Question 2 :\n",
    "# Write a Python program to implement 15 functions of string\n",
    "name_string = \"Hello, ARvind SOnI\"\n",
    "xalpha = name_string.isalpha()\n",
    "xnum = name_string.isnumeric()\n",
    "print ('1) Swapcase function', name_string.swapcase())\n",
    "print ('2) Lower case:',name_string.lower())\n",
    "print ('3) Upper case:',name_string.upper())\n",
    "print ('4) String length:', len(name_string))\n",
    "print ('5) Replace n with v:',name_string.replace(\"n\",\"v\"))\n",
    "print ('6) Split:', name_string.split(\",\"))\n",
    "print ('7) String slicing:',name_string[3:5])\n",
    "print ('8) Index:',name_string.index('ARvind')) \n",
    "print ('9) String value:',xalpha)\n",
    "print ('10)Numeric value:',xnum)\n",
    "print ('11)Title:',name_string.title())\n",
    "print ('12)Starts with Hello:',name_string.startswith('Hello'))\n",
    "print ('13)Center:',name_string.center(35))\n",
    "print ('14)Converted into all capitals:',name_string.capitalize())\n",
    "print ('15)Found the given value:',name_string.find('ARvind'))"
   ]
  },
  {
   "cell_type": "code",
   "execution_count": 103,
   "metadata": {
    "ExecuteTime": {
     "end_time": "2020-07-12T17:57:20.800779Z",
     "start_time": "2020-07-12T17:57:13.449449Z"
    }
   },
   "outputs": [
    {
     "name": "stdout",
     "output_type": "stream",
     "text": [
      "sport\n",
      "The string is not a palindrome or anagram.\n"
     ]
    }
   ],
   "source": [
    "# Question 3:\n",
    "# Write a Python program to check if the given string is a Palindrome or Anagram or None of them.\n",
    "# Display the message accordingly to the user.\n",
    "my_str = input() \n",
    "\n",
    "# make it suitable for caseless comparison\n",
    "my_str = my_str.casefold()\n",
    "\n",
    "# reverse the string\n",
    "rev_str = reversed(my_str)\n",
    "\n",
    "# check if the string is equal to its reverse\n",
    "if list(my_str) == list(rev_str):\n",
    "   print(\"The string is a palindrome.\")\n",
    "elif is_anagram (my_str,rev_str):\n",
    "    print(\"the string is a anagram\")\n",
    "else:\n",
    "   print(\"The string is not a palindrome or anagram.\")\n",
    "\n",
    "def is_anagram(str1, str2):\n",
    "    list_str1 = list(str1)\n",
    "    list_str1.sort()\n",
    "    list_str2 = list(str2)\n",
    "    list_str2.sort()\n",
    "\n",
    "    return (list_str1 == list_str2)"
   ]
  },
  {
   "cell_type": "code",
   "execution_count": 108,
   "metadata": {
    "ExecuteTime": {
     "end_time": "2020-07-12T18:04:01.458013Z",
     "start_time": "2020-07-12T18:04:01.452030Z"
    },
    "scrolled": true
   },
   "outputs": [
    {
     "name": "stdout",
     "output_type": "stream",
     "text": [
      "Removing special character drdarshaningleaimltrainer\n"
     ]
    }
   ],
   "source": [
    "# Question 4:\n",
    "# Write a Python's user defined function that removes all the additional characters from the string\n",
    "# and converts it finally to lower case using built-in lower(). eg: If the string is \"Dr. Darshan Ingle\n",
    "# @AI-ML Trainer\", then the output be \"drdarshaningle aimltrainer\".\n",
    "import re\n",
    "def remove_additionalchar(a_string):\n",
    "    a_string = a_string.lower()\n",
    "    return re.sub('[^A-Za-z0-9]+', '',a_string)\n",
    "      \n",
    "   \n",
    "var1 = \"Dr. Darshan Ingle @AI-ML Trainer\"\n",
    "print ('Removing special character', remove_additionalchar(var1))\n"
   ]
  },
  {
   "cell_type": "code",
   "execution_count": null,
   "metadata": {},
   "outputs": [],
   "source": []
  },
  {
   "cell_type": "code",
   "execution_count": null,
   "metadata": {},
   "outputs": [],
   "source": []
  }
 ],
 "metadata": {
  "kernelspec": {
   "display_name": "Python 3",
   "language": "python",
   "name": "python3"
  },
  "language_info": {
   "codemirror_mode": {
    "name": "ipython",
    "version": 3
   },
   "file_extension": ".py",
   "mimetype": "text/x-python",
   "name": "python",
   "nbconvert_exporter": "python",
   "pygments_lexer": "ipython3",
   "version": "3.7.3"
  },
  "toc": {
   "base_numbering": 1,
   "nav_menu": {},
   "number_sections": true,
   "sideBar": true,
   "skip_h1_title": false,
   "title_cell": "Table of Contents",
   "title_sidebar": "Contents",
   "toc_cell": false,
   "toc_position": {},
   "toc_section_display": true,
   "toc_window_display": false
  },
  "varInspector": {
   "cols": {
    "lenName": 16,
    "lenType": 16,
    "lenVar": 40
   },
   "kernels_config": {
    "python": {
     "delete_cmd_postfix": "",
     "delete_cmd_prefix": "del ",
     "library": "var_list.py",
     "varRefreshCmd": "print(var_dic_list())"
    },
    "r": {
     "delete_cmd_postfix": ") ",
     "delete_cmd_prefix": "rm(",
     "library": "var_list.r",
     "varRefreshCmd": "cat(var_dic_list()) "
    }
   },
   "types_to_exclude": [
    "module",
    "function",
    "builtin_function_or_method",
    "instance",
    "_Feature"
   ],
   "window_display": false
  }
 },
 "nbformat": 4,
 "nbformat_minor": 2
}
