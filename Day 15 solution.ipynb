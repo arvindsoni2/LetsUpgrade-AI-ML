{
 "cells": [
  {
   "cell_type": "markdown",
   "metadata": {},
   "source": [
    "# 1. Create a 3x3x3 array with random values "
   ]
  },
  {
   "cell_type": "code",
   "execution_count": 1,
   "metadata": {
    "ExecuteTime": {
     "end_time": "2020-07-26T14:01:26.961009Z",
     "start_time": "2020-07-26T14:01:26.942099Z"
    }
   },
   "outputs": [
    {
     "data": {
      "text/plain": [
       "array([75, 21, 50, 99, 16])"
      ]
     },
     "execution_count": 1,
     "metadata": {},
     "output_type": "execute_result"
    }
   ],
   "source": [
    "import numpy as np\n",
    "randnums= np.random.randint(1,101,5)\n",
    "randnums"
   ]
  },
  {
   "cell_type": "markdown",
   "metadata": {},
   "source": [
    "# 2.Create a 5x5 matrix with values 1,2,3,4 just below the diagonal"
   ]
  },
  {
   "cell_type": "code",
   "execution_count": 4,
   "metadata": {
    "ExecuteTime": {
     "end_time": "2020-07-26T14:04:46.294211Z",
     "start_time": "2020-07-26T14:04:46.289223Z"
    }
   },
   "outputs": [
    {
     "name": "stdout",
     "output_type": "stream",
     "text": [
      "[[1 0 0 0 0]\n",
      " [0 2 0 0 0]\n",
      " [0 0 3 0 0]\n",
      " [0 0 0 4 0]\n",
      " [0 0 0 0 5]]\n"
     ]
    }
   ],
   "source": [
    "import numpy as np\n",
    "x = np.diag([1, 2, 3, 4, 5])\n",
    "print(x)"
   ]
  },
  {
   "cell_type": "markdown",
   "metadata": {},
   "source": [
    "# 3.Create a 8x8 matrix and fill it with a checkerboard pattern"
   ]
  },
  {
   "cell_type": "code",
   "execution_count": 6,
   "metadata": {
    "ExecuteTime": {
     "end_time": "2020-07-26T14:24:15.080095Z",
     "start_time": "2020-07-26T14:24:15.075111Z"
    }
   },
   "outputs": [
    {
     "name": "stdout",
     "output_type": "stream",
     "text": [
      "[[0 1 0 1 0 1 0 1]\n",
      " [1 0 1 0 1 0 1 0]\n",
      " [0 1 0 1 0 1 0 1]\n",
      " [1 0 1 0 1 0 1 0]\n",
      " [0 1 0 1 0 1 0 1]\n",
      " [1 0 1 0 1 0 1 0]\n",
      " [0 1 0 1 0 1 0 1]\n",
      " [1 0 1 0 1 0 1 0]]\n"
     ]
    }
   ],
   "source": [
    "import numpy as np\n",
    "temp = np.zeros((8,8),dtype=int)\n",
    "temp[1::2,::2] = 1\n",
    "temp[::2,1::2] = 1\n",
    "print(temp)"
   ]
  },
  {
   "cell_type": "markdown",
   "metadata": {},
   "source": [
    "# 4. Normalize a 5x5 random matrix"
   ]
  },
  {
   "cell_type": "code",
   "execution_count": 7,
   "metadata": {
    "ExecuteTime": {
     "end_time": "2020-07-26T14:26:11.521564Z",
     "start_time": "2020-07-26T14:26:11.513583Z"
    }
   },
   "outputs": [
    {
     "name": "stdout",
     "output_type": "stream",
     "text": [
      "[[0.26858981 0.44142268 0.03400414 0.86005871 0.14538676]\n",
      " [0.91983566 0.95485729 0.03639252 0.03158586 0.        ]\n",
      " [0.227961   0.49761636 0.25570454 0.90157161 0.88308705]\n",
      " [0.28588958 0.21583799 0.96357954 1.         0.70498627]\n",
      " [0.58560446 0.78969788 0.40514562 0.73812472 0.20646782]]\n"
     ]
    }
   ],
   "source": [
    "import numpy as np\n",
    "temp = np.random.random((5,5))\n",
    "tempmax, tempmin = temp.max(), temp.min()\n",
    "temp = (temp - tempmin)/(tempmax - tempmin)\n",
    "print(temp)"
   ]
  },
  {
   "cell_type": "markdown",
   "metadata": {},
   "source": [
    "# 5.  How to find common values between two arrays?"
   ]
  },
  {
   "cell_type": "code",
   "execution_count": 8,
   "metadata": {
    "ExecuteTime": {
     "end_time": "2020-07-26T14:27:34.647007Z",
     "start_time": "2020-07-26T14:27:34.640025Z"
    }
   },
   "outputs": [
    {
     "name": "stdout",
     "output_type": "stream",
     "text": [
      "[0 5 6 8]\n"
     ]
    }
   ],
   "source": [
    "import numpy as np\n",
    "temp1 = np.random.randint(0,10,10)\n",
    "temp2 = np.random.randint(0,10,10)\n",
    "print(np.intersect1d(temp1,temp2))"
   ]
  },
  {
   "cell_type": "markdown",
   "metadata": {},
   "source": [
    "# 6.How to get the dates of yesterday, today and tomorrow?"
   ]
  },
  {
   "cell_type": "code",
   "execution_count": 12,
   "metadata": {
    "ExecuteTime": {
     "end_time": "2020-07-26T14:30:46.105441Z",
     "start_time": "2020-07-26T14:30:46.100429Z"
    }
   },
   "outputs": [
    {
     "name": "stdout",
     "output_type": "stream",
     "text": [
      "Yesterday 2020-07-25\n",
      "Today 2020-07-26\n",
      "Tomorrow 2020-07-27\n"
     ]
    }
   ],
   "source": [
    "import numpy as np\n",
    "yesterday = np.datetime64('today', 'D') - np.timedelta64(1, 'D')\n",
    "today     = np.datetime64('today', 'D')\n",
    "tomorrow  = np.datetime64('today', 'D') + np.timedelta64(1, 'D')\n",
    "print('Yesterday',yesterday)\n",
    "print('Today',today)\n",
    "print('Tomorrow',tomorrow)\n"
   ]
  },
  {
   "cell_type": "markdown",
   "metadata": {},
   "source": [
    "# 7. Consider two random array A and B, check if they are equal"
   ]
  },
  {
   "cell_type": "code",
   "execution_count": 13,
   "metadata": {
    "ExecuteTime": {
     "end_time": "2020-07-26T14:32:21.065191Z",
     "start_time": "2020-07-26T14:32:21.058249Z"
    }
   },
   "outputs": [
    {
     "name": "stdout",
     "output_type": "stream",
     "text": [
      "False\n",
      "False\n"
     ]
    }
   ],
   "source": [
    "import numpy as np\n",
    "\n",
    "A = np.random.randint(0,2,5)\n",
    "B = np.random.randint(0,2,5)\n",
    "\n",
    "EQ = np.allclose(A,B)\n",
    "print(EQ)\n",
    "\n",
    "EQ = np.array_equal(A,B)\n",
    "print(EQ)"
   ]
  },
  {
   "cell_type": "markdown",
   "metadata": {},
   "source": [
    "# 8.Create random vector of size 10 and replace the maximum value by 0 "
   ]
  },
  {
   "cell_type": "code",
   "execution_count": 14,
   "metadata": {
    "ExecuteTime": {
     "end_time": "2020-07-26T14:39:23.271524Z",
     "start_time": "2020-07-26T14:39:23.265573Z"
    }
   },
   "outputs": [
    {
     "name": "stdout",
     "output_type": "stream",
     "text": [
      "[0.05949117 0.46226931 0.19090749 0.         0.05661808 0.42340718\n",
      " 0.58242625 0.21198788 0.4261395  0.16791737]\n"
     ]
    }
   ],
   "source": [
    "import numpy as np\n",
    "temp = np.random.random(10)\n",
    "temp[temp.argmax()] = 0\n",
    "print(temp)"
   ]
  },
  {
   "cell_type": "markdown",
   "metadata": {},
   "source": [
    "# 9. How to print all the values of an array?"
   ]
  },
  {
   "cell_type": "code",
   "execution_count": 19,
   "metadata": {
    "ExecuteTime": {
     "end_time": "2020-07-26T14:42:55.266465Z",
     "start_time": "2020-07-26T14:42:55.259516Z"
    }
   },
   "outputs": [
    {
     "name": "stdout",
     "output_type": "stream",
     "text": [
      "[[0. 0. 0. 0.]\n",
      " [0. 0. 0. 0.]\n",
      " [0. 0. 0. 0.]\n",
      " [0. 0. 0. 0.]]\n"
     ]
    }
   ],
   "source": [
    "import numpy as np\n",
    "temp = np.zeros((4,4))\n",
    "print(temp)"
   ]
  },
  {
   "cell_type": "markdown",
   "metadata": {},
   "source": [
    "# 10.Subtract the mean of each row of a matrix"
   ]
  },
  {
   "cell_type": "code",
   "execution_count": 22,
   "metadata": {
    "ExecuteTime": {
     "end_time": "2020-07-26T14:44:26.702162Z",
     "start_time": "2020-07-26T14:44:26.696178Z"
    }
   },
   "outputs": [
    {
     "name": "stdout",
     "output_type": "stream",
     "text": [
      "[[ 0.38205464 -0.016293   -0.09450169 -0.43679894 -0.47527979  0.01791926\n",
      "   0.23580331  0.19558122  0.35695144 -0.16543644]\n",
      " [-0.06511539  0.10670874 -0.03166848  0.09116308  0.0524007   0.03626808\n",
      "  -0.11749778 -0.39873043  0.42980052 -0.10332904]\n",
      " [ 0.01740719 -0.37935185 -0.01346203  0.28709     0.0320788   0.24825872\n",
      "  -0.15163694  0.06322092 -0.28628239  0.1826776 ]\n",
      " [ 0.29472713 -0.02260843  0.21002141 -0.27614909  0.42437437 -0.10079514\n",
      "  -0.00899058 -0.2266434  -0.13605553 -0.15788074]\n",
      " [-0.26313946  0.44848422 -0.0495739   0.16186792  0.18147147  0.0176223\n",
      "  -0.05582557 -0.25992599  0.11384786 -0.29482886]]\n"
     ]
    }
   ],
   "source": [
    "temp = np.random.rand(5, 10)\n",
    "\n",
    "\n",
    "temp1 = temp - temp.mean(axis=1, keepdims=True)\n",
    "\n",
    "print(temp1)"
   ]
  },
  {
   "cell_type": "markdown",
   "metadata": {},
   "source": [
    "# 11.Consider a given vector, how to add 1 to each element indexed by a second vector (be careful with repeated indices)? "
   ]
  },
  {
   "cell_type": "code",
   "execution_count": 24,
   "metadata": {
    "ExecuteTime": {
     "end_time": "2020-07-26T14:46:31.101804Z",
     "start_time": "2020-07-26T14:46:31.095851Z"
    }
   },
   "outputs": [
    {
     "name": "stdout",
     "output_type": "stream",
     "text": [
      "[5. 5. 5. 1. 5. 5. 7. 5. 3. 9.]\n",
      "[ 9.  9. 15.  7.  5.  1.  1.  1.  1.  1.]\n"
     ]
    }
   ],
   "source": [
    "temp = np.ones(10)\n",
    "temp1 = np.random.randint(0,len(temp1),20)\n",
    "temp += np.bincount(temp1, minlength=len(temp))\n",
    "print(Z)\n",
    "np.add.at(temp, temp1, 1)\n",
    "print(temp)"
   ]
  },
  {
   "cell_type": "markdown",
   "metadata": {},
   "source": [
    "# 12.How to get the diagonal of a dot product?"
   ]
  },
  {
   "cell_type": "code",
   "execution_count": 25,
   "metadata": {
    "ExecuteTime": {
     "end_time": "2020-07-26T14:47:39.672871Z",
     "start_time": "2020-07-26T14:47:39.665888Z"
    }
   },
   "outputs": [
    {
     "data": {
      "text/plain": [
       "array([1.40290519, 0.35324955, 1.71725044, 0.85968882, 1.08679698])"
      ]
     },
     "execution_count": 25,
     "metadata": {},
     "output_type": "execute_result"
    }
   ],
   "source": [
    "tempA = np.random.uniform(0,1,(5,5))\n",
    "tempB = np.random.uniform(0,1,(5,5))\n",
    "\n",
    "np.sum(tempA * tempB.T, axis=1)"
   ]
  },
  {
   "cell_type": "markdown",
   "metadata": {},
   "source": [
    "# 13.How to find the most frequent value in an array?"
   ]
  },
  {
   "cell_type": "code",
   "execution_count": 26,
   "metadata": {
    "ExecuteTime": {
     "end_time": "2020-07-26T14:48:10.852133Z",
     "start_time": "2020-07-26T14:48:10.848143Z"
    }
   },
   "outputs": [
    {
     "name": "stdout",
     "output_type": "stream",
     "text": [
      "5\n"
     ]
    }
   ],
   "source": [
    "tempZ = np.random.randint(0,10,50)\n",
    "print(np.bincount(tempZ).argmax())"
   ]
  },
  {
   "cell_type": "markdown",
   "metadata": {},
   "source": [
    "# 14.How to get the n largest values of an array"
   ]
  },
  {
   "cell_type": "code",
   "execution_count": 27,
   "metadata": {
    "ExecuteTime": {
     "end_time": "2020-07-26T14:48:55.680429Z",
     "start_time": "2020-07-26T14:48:55.671454Z"
    }
   },
   "outputs": [
    {
     "name": "stdout",
     "output_type": "stream",
     "text": [
      "[9996 9998 9997 9999 9995]\n"
     ]
    }
   ],
   "source": [
    "tempZ = np.arange(10000)\n",
    "np.random.shuffle(tempZ)\n",
    "n = 5\n",
    "\n",
    "print (tempZ[np.argpartition(-tempZ,n)[:n]])"
   ]
  },
  {
   "cell_type": "markdown",
   "metadata": {},
   "source": [
    "# 15.How to create a record array from a regular array?"
   ]
  },
  {
   "cell_type": "code",
   "execution_count": 28,
   "metadata": {
    "ExecuteTime": {
     "end_time": "2020-07-26T14:49:33.816753Z",
     "start_time": "2020-07-26T14:49:33.807748Z"
    }
   },
   "outputs": [
    {
     "name": "stdout",
     "output_type": "stream",
     "text": [
      "[(b'Hello', 2.5, 3) (b'World', 3.6, 2)]\n"
     ]
    }
   ],
   "source": [
    "tempZ = np.array([(\"Hello\", 2.5, 3),\n",
    "              (\"World\", 3.6, 2)])\n",
    "tempR = np.core.records.fromarrays(tempZ.T,\n",
    "                               names='col1, col2, col3',\n",
    "                               formats = 'S8, f8, i8')\n",
    "print(tempR)"
   ]
  }
 ],
 "metadata": {
  "kernelspec": {
   "display_name": "Python 3",
   "language": "python",
   "name": "python3"
  },
  "language_info": {
   "codemirror_mode": {
    "name": "ipython",
    "version": 3
   },
   "file_extension": ".py",
   "mimetype": "text/x-python",
   "name": "python",
   "nbconvert_exporter": "python",
   "pygments_lexer": "ipython3",
   "version": "3.7.3"
  },
  "toc": {
   "base_numbering": 1,
   "nav_menu": {},
   "number_sections": true,
   "sideBar": true,
   "skip_h1_title": false,
   "title_cell": "Table of Contents",
   "title_sidebar": "Contents",
   "toc_cell": false,
   "toc_position": {},
   "toc_section_display": true,
   "toc_window_display": false
  },
  "varInspector": {
   "cols": {
    "lenName": 16,
    "lenType": 16,
    "lenVar": 40
   },
   "kernels_config": {
    "python": {
     "delete_cmd_postfix": "",
     "delete_cmd_prefix": "del ",
     "library": "var_list.py",
     "varRefreshCmd": "print(var_dic_list())"
    },
    "r": {
     "delete_cmd_postfix": ") ",
     "delete_cmd_prefix": "rm(",
     "library": "var_list.r",
     "varRefreshCmd": "cat(var_dic_list()) "
    }
   },
   "types_to_exclude": [
    "module",
    "function",
    "builtin_function_or_method",
    "instance",
    "_Feature"
   ],
   "window_display": false
  }
 },
 "nbformat": 4,
 "nbformat_minor": 2
}
